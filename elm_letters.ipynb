{
 "cells": [
  {
   "cell_type": "markdown",
   "metadata": {},
   "source": [
    "Для начала импортируем необходимые модули"
   ]
  },
  {
   "cell_type": "code",
   "execution_count": 1,
   "metadata": {},
   "outputs": [],
   "source": [
    "import os\n",
    "import numpy as np\n",
    "from PIL import Image\n",
    "from sklearn.preprocessing import MinMaxScaler\n",
    "from sklearn.model_selection import train_test_split\n",
    "from sklearn.preprocessing import OneHotEncoder\n",
    "from sklearn.model_selection import GridSearchCV\n",
    "from sklearn.metrics import f1_score\n",
    "from sklearn.metrics import recall_score\n",
    "from sklearn.metrics import make_scorer, mean_squared_error"
   ]
  },
  {
   "cell_type": "markdown",
   "metadata": {},
   "source": [
    "Объявим директорию, откуда будет браться датасет, и далее реализуем функцию загрузки и обработки датасета для обучения"
   ]
  },
  {
   "cell_type": "code",
   "execution_count": 2,
   "metadata": {},
   "outputs": [],
   "source": [
    "# Define the root directory containing the dataset\n",
    "root_dir = \".//archive//train\"\n",
    "\n",
    "# Define the function to load the dataset\n",
    "def load_dataset(root_dir):\n",
    "    X = []\n",
    "    Y = []\n",
    "    label_mapping = {}\n",
    "\n",
    "    label = 0\n",
    "    for foldername in os.listdir(root_dir):\n",
    "        label_mapping[label] = foldername\n",
    "        folderpath = os.path.join(root_dir, foldername)\n",
    "\n",
    "        for filename in os.listdir(folderpath):\n",
    "            filepath = os.path.join(folderpath, filename)\n",
    "            image = Image.open(filepath)\n",
    "            image = image.resize((16, 16))\n",
    "            image_array = np.array(image)\n",
    "            X.append(image_array)\n",
    "            Y.append(label)\n",
    "\n",
    "        label += 1\n",
    "    X = np.array(X)\n",
    "    Y = np.array(Y)\n",
    "\n",
    "    return X, Y, label_mapping\n"
   ]
  },
  {
   "cell_type": "markdown",
   "metadata": {},
   "source": [
    "Загрузка датасета, распределение на тестовую и обучающие выборки"
   ]
  },
  {
   "cell_type": "code",
   "execution_count": 3,
   "metadata": {},
   "outputs": [],
   "source": [
    "X, Y, label_mapping = load_dataset(root_dir)\n",
    "scaler = MinMaxScaler()\n",
    "X_flattened = X.reshape(len(X), -1)\n",
    "X_scaled = scaler.fit_transform(X_flattened)\n",
    "\n",
    "\n",
    "enc = OneHotEncoder(categories='auto')\n",
    "Y_onehot = enc.fit_transform(Y.reshape(-1, 1)).toarray()\n",
    "\n",
    "\n",
    "X_train, X_test, Y_train, Y_test = train_test_split(X_scaled, Y_onehot, test_size=0.1, random_state=42)\n"
   ]
  },
  {
   "cell_type": "markdown",
   "metadata": {},
   "source": [
    "Непосредственно класс, реализующий машину экстримального обучения с 900 нейронами скрытого слоя, что является оптимальным для датасета с таким большим количеством классов"
   ]
  },
  {
   "cell_type": "code",
   "execution_count": 4,
   "metadata": {},
   "outputs": [],
   "source": [
    "# ELM class implementation\n",
    "class ELM:\n",
    "    def __init__(self, d = 500, gamma=1e-6):\n",
    "        self.d = d\n",
    "        self.gamma = gamma\n",
    "        self.alpha = np.zeros((900,768))\n",
    "        self.beta = np.zeros((900, 30))\n",
    "        self.b_vec = np.zeros((900,))\n",
    "\n",
    "    def get_params(self, deep=False):\n",
    "        return {\"gamma\": self.gamma, \"d\": self.d}\n",
    "\n",
    "    def set_params(self, **parameters):\n",
    "        for parameter, value in parameters.items():\n",
    "            setattr(self, parameter, value)\n",
    "        return self\n",
    "\n",
    "    def make_alpha(self, m):\n",
    "        return np.random.uniform(-1, 1, size=(self.d, m))\n",
    "\n",
    "    def make_b_vec(self):\n",
    "        return np.random.uniform(-1, 1, size=(self.d,))\n",
    "\n",
    "    def compute_b(self, n):\n",
    "        return np.tile(self.b_vec, (n, 1))\n",
    "\n",
    "    def sigmoid(self, x):\n",
    "        return 1 / (1 + np.exp(-x))\n",
    "\n",
    "    def compute_h(self, v):\n",
    "        return self.sigmoid(np.dot(v, self.alpha.T) + self.compute_b(v.shape[0]))\n",
    "\n",
    "    def make_i(self):\n",
    "        return np.eye(self.d)\n",
    "\n",
    "    def compute_hp(self, h):\n",
    "        i = self.make_i()\n",
    "        return np.linalg.inv(np.dot(h.T, h) + self.gamma * i).dot(h.T)\n",
    "\n",
    "    def compute_beta(self, hp, y):\n",
    "        return np.dot(hp, y.reshape(-1, y.shape[-1]))\n",
    "\n",
    "    def fit(self, X_train, Y_train):\n",
    "        m = X_train.shape[1]\n",
    "        self.alpha = self.make_alpha(m)\n",
    "        self.b_vec = self.make_b_vec()\n",
    "        h = self.compute_h(X_train)\n",
    "        hp = self.compute_hp(h)\n",
    "        self.beta = self.compute_beta(hp, Y_train)\n",
    "\n",
    "    def predict(self, X_test):\n",
    "        h_test = self.compute_h(X_test)\n",
    "        y_pred = np.dot(h_test, self.beta)\n",
    "        return y_pred\n"
   ]
  },
  {
   "cell_type": "markdown",
   "metadata": {},
   "source": [
    "Инициализация и тестирование модели машины экстримального обучения"
   ]
  },
  {
   "cell_type": "code",
   "execution_count": 5,
   "metadata": {},
   "outputs": [
    {
     "name": "stdout",
     "output_type": "stream",
     "text": [
      "{'d': 500}\n"
     ]
    }
   ],
   "source": [
    "\n",
    "# Initialize ELM model\n",
    "elm = ELM()\n",
    "\n",
    "\n",
    "Y_test = Y_test.argmax(axis=1)\n",
    "parameters = { 'd':[500, 600, 700, 800, 900]}\n",
    "clf = GridSearchCV(elm, parameters, scoring=make_scorer(mean_squared_error))\n",
    "clf.fit(X_train, Y_train)\n",
    "print(clf.best_params_)\n",
    "elm.fit(X_train, Y_train)\n",
    "\n",
    "Y_pred = elm.predict(X_test).argmax(axis=1)\n",
    "\n",
    "accuracy = (Y_pred == Y_test).mean()"
   ]
  },
  {
   "cell_type": "markdown",
   "metadata": {},
   "source": [
    "Вывод интересующих нас параметров"
   ]
  },
  {
   "cell_type": "code",
   "execution_count": 6,
   "metadata": {},
   "outputs": [
    {
     "name": "stdout",
     "output_type": "stream",
     "text": [
      "Accuracy: 96 %\n",
      "0.9620216963731788\n",
      "0.9635447870015975\n"
     ]
    }
   ],
   "source": [
    "print(\"Accuracy:\", round(accuracy * 100), \"%\")\n",
    "print(f1_score(Y_test, Y_pred, average=None).mean())\n",
    "print(recall_score(Y_test, Y_pred, average=None).mean())"
   ]
  }
 ],
 "metadata": {
  "kernelspec": {
   "display_name": "Python 3",
   "language": "python",
   "name": "python3"
  },
  "language_info": {
   "codemirror_mode": {
    "name": "ipython",
    "version": 3
   },
   "file_extension": ".py",
   "mimetype": "text/x-python",
   "name": "python",
   "nbconvert_exporter": "python",
   "pygments_lexer": "ipython3",
   "version": "3.12.1"
  }
 },
 "nbformat": 4,
 "nbformat_minor": 2
}
